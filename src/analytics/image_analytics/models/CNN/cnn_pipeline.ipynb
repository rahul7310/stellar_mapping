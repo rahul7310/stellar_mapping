{
 "cells": [
  {
   "cell_type": "code",
   "execution_count": 2,
   "metadata": {},
   "outputs": [],
   "source": [
    "import torch\n",
    "import logging\n",
    "from pathlib import Path\n",
    "import yaml\n",
    "from datetime import datetime\n",
    "from typing import Dict\n",
    "\n",
    "from CNN import create_model\n",
    "from training import Trainer\n",
    "\n",
    "from data_analysis import analyze_dataset, print_preprocessing_recommendations\n",
    "from data_preprocessing import DatasetConfig, DataModule, ModelType, DatasetType\n",
    "\n",
    "from vis_analysis_pipeline import VisualizationManager"
   ]
  },
  {
   "cell_type": "code",
   "execution_count": 2,
   "metadata": {},
   "outputs": [],
   "source": [
    "\n",
    "def load_config(config_path: str) -> Dict:\n",
    "    \"\"\"Load configuration from YAML file with type conversion\"\"\"\n",
    "    with open(config_path, 'r') as f:\n",
    "        config = yaml.safe_load(f)\n",
    "    \n",
    "    # Convert numeric values to proper types\n",
    "    training = config.get('training', {})\n",
    "    training['learning_rate'] = float(training.get('learning_rate', 1e-4))\n",
    "    training['weight_decay'] = float(training.get('weight_decay', 1e-5))\n",
    "    training['min_lr'] = float(training.get('min_lr', 1e-6))\n",
    "    training['max_lr'] = float(training.get('max_lr', 1e-3))\n",
    "    training['warmup_start_lr'] = float(training.get('warmup_start_lr', 1e-7))\n",
    "    training['plateau_factor'] = float(training.get('plateau_factor', 0.5))\n",
    "    \n",
    "    return config\n"
   ]
  },
  {
   "cell_type": "code",
   "execution_count": 3,
   "metadata": {},
   "outputs": [],
   "source": [
    "def setup_logging(log_dir: Path):\n",
    "    \"\"\"Setup logging configuration\"\"\"\n",
    "    log_dir.mkdir(parents=True, exist_ok=True)\n",
    "    logging.basicConfig(\n",
    "        filename=log_dir / 'pipeline.log',\n",
    "        level=logging.INFO,\n",
    "        format='%(asctime)s - %(levelname)s - %(message)s'\n",
    "    )"
   ]
  },
  {
   "cell_type": "code",
   "execution_count": 4,
   "metadata": {},
   "outputs": [],
   "source": [
    "# Load configuration\n",
    "config_path = 'config.yaml'\n",
    "config = load_config(config_path)"
   ]
  },
  {
   "cell_type": "code",
   "execution_count": 5,
   "metadata": {},
   "outputs": [],
   "source": [
    "# Setup paths\n",
    "base_path = Path(config['data_path'])\n",
    "experiment_name = f\"cnn_constellation_classification_{datetime.now().strftime('%Y%m%d_%H%M%S')}\"\n",
    "log_dir = Path(config['log_dir']) / experiment_name\n",
    "\n",
    "# Setup logging\n",
    "setup_logging(log_dir)\n",
    "logging.info(\"Starting pipeline execution\")"
   ]
  },
  {
   "cell_type": "code",
   "execution_count": 6,
   "metadata": {},
   "outputs": [
    {
     "name": "stdout",
     "output_type": "stream",
     "text": [
      "\n",
      "=== Dataset Statistics ===\n",
      "Total number of images: 1641\n",
      "Total number of labels: 4909\n",
      "Average labels per image: 2.99\n",
      "\n",
      "=== Class Imbalance Analysis ===\n",
      "\n",
      "Class imbalance ratios (relative to most frequent class):\n",
      " cassiopeia: 1.00:1\n",
      " pleiades: 1.16:1\n",
      " ursa_major: 1.21:1\n",
      " cygnus: 1.27:1\n",
      " lyra: 1.28:1\n",
      " moon: 1.36:1\n",
      " orion: 1.46:1\n",
      " bootes: 1.96:1\n",
      " taurus: 1.97:1\n",
      " aquila: 1.98:1\n",
      " gemini: 2.05:1\n",
      " canis_minor: 2.17:1\n",
      " leo: 2.31:1\n",
      " scorpius: 2.55:1\n",
      " canis_major: 2.56:1\n",
      " sagittarius: 2.81:1\n",
      "\n",
      "=== Image Properties Analysis ===\n",
      "\n",
      "Image Dimensions Summary:\n",
      "Width  - Mean: 640.0, Min: 640, Max: 640\n",
      "Height - Mean: 640.0, Min: 640, Max: 640\n",
      "Aspect Ratio - Mean: 1.00, Min: 1.00, Max: 1.00\n",
      "\n",
      "=== Preprocessing Recommendations ===\n",
      "\n",
      "2. Multi-label Specific:\n",
      "- Use BCEWithLogitsLoss for training\n",
      "- Consider label correlation in loss function\n",
      "- Implement proper multi-label evaluation metrics\n",
      "\n",
      "3. Recommended Augmentation Techniques:\n",
      "- Random horizontal flips (already implemented)\n",
      "- Random rotation (±10 degrees)\n",
      "- Color jittering\n",
      "- Random crops\n",
      "- Consider adding Gaussian noise\n",
      "\n",
      "4. General Preprocessing:\n",
      "- Normalize images using ImageNet statistics\n",
      "- Resize images to consistent size (224x224)\n",
      "- Consider using center crop for validation\n"
     ]
    }
   ],
   "source": [
    "# 1. Data Analysis\n",
    "logging.info(\"Running data analysis...\")\n",
    "\n",
    "analysis_results = analyze_dataset(\n",
    "    csv_file=base_path / \"train/_classes.csv\",\n",
    "    img_dir=base_path / \"train/images\"\n",
    ")\n",
    "print_preprocessing_recommendations(analysis_results)"
   ]
  },
  {
   "cell_type": "code",
   "execution_count": 7,
   "metadata": {},
   "outputs": [
    {
     "name": "stderr",
     "output_type": "stream",
     "text": [
      "e:\\University\\CU_Classes\\Year-1\\Fall 2024\\CSCI_5502_Data Mining\\Milestone_project\\stellar_mapping\\src\\analytics\\image_analytics\\models\\CNN\\data_preprocessing.py:237: FutureWarning: Series.__getitem__ treating keys as positions is deprecated. In a future version, integer keys will always be treated as labels (consistent with DataFrame behavior). To access a value by position, use `ser.iloc[pos]`\n",
      "  return torch.FloatTensor(weights)\n"
     ]
    }
   ],
   "source": [
    "# 2. Data Preprocessing\n",
    "logging.info(\"Setting up data module...\")\n",
    "\n",
    "data_config = DatasetConfig(base_path)\n",
    "data_module = DataModule(\n",
    "    data_config=data_config,\n",
    "    model_type=ModelType.CNN,\n",
    "    batch_size=config['training']['batch_size'],\n",
    "    num_workers=config['training']['num_workers']\n",
    ")"
   ]
  },
  {
   "cell_type": "code",
   "execution_count": 8,
   "metadata": {},
   "outputs": [
    {
     "name": "stderr",
     "output_type": "stream",
     "text": [
      "c:\\Users\\sivap\\anaconda3\\envs\\stellar\\Lib\\site-packages\\torchvision\\models\\_utils.py:208: UserWarning: The parameter 'pretrained' is deprecated since 0.13 and may be removed in the future, please use 'weights' instead.\n",
      "  warnings.warn(\n",
      "c:\\Users\\sivap\\anaconda3\\envs\\stellar\\Lib\\site-packages\\torchvision\\models\\_utils.py:223: UserWarning: Arguments other than a weight enum or `None` for 'weights' are deprecated since 0.13 and may be removed in the future. The current behavior is equivalent to passing `weights=ResNet50_Weights.IMAGENET1K_V1`. You can also use `weights=ResNet50_Weights.DEFAULT` to get the most up-to-date weights.\n",
      "  warnings.warn(msg)\n"
     ]
    }
   ],
   "source": [
    "# 3. Model Creation\n",
    "logging.info(\"Creating model...\")\n",
    "\n",
    "device = torch.device('cuda' if torch.cuda.is_available() else 'cpu')\n",
    "model = create_model(\n",
    "    model_type='cnn',\n",
    "    num_classes=16,\n",
    "    pretrained=True,\n",
    "    backbone=config['model']['backbone'],\n",
    "    dropout_rate=config['model']['dropout_rate']\n",
    ")\n",
    "model = model.to(device)"
   ]
  },
  {
   "cell_type": "code",
   "execution_count": 9,
   "metadata": {},
   "outputs": [
    {
     "name": "stderr",
     "output_type": "stream",
     "text": [
      "\u001b[34m\u001b[1mwandb\u001b[0m: Using wandb-core as the SDK backend.  Please refer to https://wandb.me/wandb-core for more information.\n",
      "\u001b[34m\u001b[1mwandb\u001b[0m: Currently logged in as: \u001b[33marsive\u001b[0m. Use \u001b[1m`wandb login --relogin`\u001b[0m to force relogin\n"
     ]
    },
    {
     "data": {
      "text/html": [
       "Tracking run with wandb version 0.18.7"
      ],
      "text/plain": [
       "<IPython.core.display.HTML object>"
      ]
     },
     "metadata": {},
     "output_type": "display_data"
    },
    {
     "data": {
      "text/html": [
       "Run data is saved locally in <code>e:\\University\\CU_Classes\\Year-1\\Fall 2024\\CSCI_5502_Data Mining\\Milestone_project\\stellar_mapping\\src\\analytics\\image_analytics\\models\\CNN\\wandb\\run-20241120_145521-fkguwkzw</code>"
      ],
      "text/plain": [
       "<IPython.core.display.HTML object>"
      ]
     },
     "metadata": {},
     "output_type": "display_data"
    },
    {
     "data": {
      "text/html": [
       "Syncing run <strong><a href='https://wandb.ai/arsive/constellation-classification/runs/fkguwkzw' target=\"_blank\">cnn_constellation_classification_20241120_145519</a></strong> to <a href='https://wandb.ai/arsive/constellation-classification' target=\"_blank\">Weights & Biases</a> (<a href='https://wandb.me/developer-guide' target=\"_blank\">docs</a>)<br/>"
      ],
      "text/plain": [
       "<IPython.core.display.HTML object>"
      ]
     },
     "metadata": {},
     "output_type": "display_data"
    },
    {
     "data": {
      "text/html": [
       " View project at <a href='https://wandb.ai/arsive/constellation-classification' target=\"_blank\">https://wandb.ai/arsive/constellation-classification</a>"
      ],
      "text/plain": [
       "<IPython.core.display.HTML object>"
      ]
     },
     "metadata": {},
     "output_type": "display_data"
    },
    {
     "data": {
      "text/html": [
       " View run at <a href='https://wandb.ai/arsive/constellation-classification/runs/fkguwkzw' target=\"_blank\">https://wandb.ai/arsive/constellation-classification/runs/fkguwkzw</a>"
      ],
      "text/plain": [
       "<IPython.core.display.HTML object>"
      ]
     },
     "metadata": {},
     "output_type": "display_data"
    },
    {
     "name": "stdout",
     "output_type": "stream",
     "text": [
      "\n",
      "Starting training...\n",
      "Log directory: logs\\cnn_constellation_classification_20241120_145519\n",
      "Number of epochs: 10\n",
      "\n",
      "Epoch 1/10\n"
     ]
    },
    {
     "name": "stderr",
     "output_type": "stream",
     "text": [
      "Epoch 0: 100%|██████████| 51/51 [00:29<00:00,  1.74it/s, loss=1.93]\n"
     ]
    },
    {
     "name": "stdout",
     "output_type": "stream",
     "text": [
      "\n",
      "Training metrics:\n",
      "Loss: 1.8207\n",
      "Mean AP: 0.4146\n"
     ]
    },
    {
     "name": "stderr",
     "output_type": "stream",
     "text": [
      "Validation: 100%|██████████| 15/15 [00:19<00:00,  1.28s/it]\n"
     ]
    },
    {
     "name": "stdout",
     "output_type": "stream",
     "text": [
      "\n",
      "Validation metrics:\n",
      "Loss: 0.8932\n",
      "Mean AP: 0.3577\n",
      "Previous best MAP: 0.0000\n",
      "Learning rate: 0.000333\n",
      "\n",
      "Improvement detected! Previous best: 0.0000, Current: 0.3577\n",
      "\n",
      "Attempting to save checkpoint:\n",
      "Current MAP: 0.35767286959241723\n",
      "Best MAP so far: 0.35767286959241723\n",
      "Saving checkpoint to: logs\\cnn_constellation_classification_20241120_145519\\best_model.pt\n",
      "Successfully saved checkpoint!\n",
      "\n",
      "Epoch 2/10\n"
     ]
    },
    {
     "name": "stderr",
     "output_type": "stream",
     "text": [
      "Epoch 1: 100%|██████████| 51/51 [00:28<00:00,  1.77it/s, loss=0.48] \n"
     ]
    },
    {
     "name": "stdout",
     "output_type": "stream",
     "text": [
      "\n",
      "Training metrics:\n",
      "Loss: 0.8490\n",
      "Mean AP: 0.6499\n"
     ]
    },
    {
     "name": "stderr",
     "output_type": "stream",
     "text": [
      "Validation: 100%|██████████| 15/15 [00:19<00:00,  1.28s/it]\n"
     ]
    },
    {
     "name": "stdout",
     "output_type": "stream",
     "text": [
      "\n",
      "Validation metrics:\n",
      "Loss: 0.3408\n",
      "Mean AP: 0.7857\n",
      "Previous best MAP: 0.3577\n",
      "Learning rate: 0.000667\n",
      "\n",
      "Improvement detected! Previous best: 0.3577, Current: 0.7857\n",
      "\n",
      "Attempting to save checkpoint:\n",
      "Current MAP: 0.7856525490591131\n",
      "Best MAP so far: 0.7856525490591131\n",
      "Saving checkpoint to: logs\\cnn_constellation_classification_20241120_145519\\best_model.pt\n",
      "Successfully saved checkpoint!\n",
      "\n",
      "Epoch 3/10\n"
     ]
    },
    {
     "name": "stderr",
     "output_type": "stream",
     "text": [
      "Epoch 2: 100%|██████████| 51/51 [00:28<00:00,  1.78it/s, loss=0.217]\n"
     ]
    },
    {
     "name": "stdout",
     "output_type": "stream",
     "text": [
      "\n",
      "Training metrics:\n",
      "Loss: 0.3055\n",
      "Mean AP: 0.7700\n"
     ]
    },
    {
     "name": "stderr",
     "output_type": "stream",
     "text": [
      "Validation: 100%|██████████| 15/15 [00:19<00:00,  1.27s/it]\n"
     ]
    },
    {
     "name": "stdout",
     "output_type": "stream",
     "text": [
      "\n",
      "Validation metrics:\n",
      "Loss: 0.2948\n",
      "Mean AP: 0.6282\n",
      "Previous best MAP: 0.7857\n",
      "Learning rate: 0.001000\n",
      "\n",
      "No improvement. Previous best: 0.7857, Current: 0.6282\n",
      "\n",
      "Epoch 4/10\n"
     ]
    },
    {
     "name": "stderr",
     "output_type": "stream",
     "text": [
      "Epoch 3: 100%|██████████| 51/51 [00:28<00:00,  1.78it/s, loss=0.16]  \n"
     ]
    },
    {
     "name": "stdout",
     "output_type": "stream",
     "text": [
      "\n",
      "Training metrics:\n",
      "Loss: 0.1996\n",
      "Mean AP: 0.8124\n"
     ]
    },
    {
     "name": "stderr",
     "output_type": "stream",
     "text": [
      "Validation: 100%|██████████| 15/15 [00:19<00:00,  1.28s/it]\n"
     ]
    },
    {
     "name": "stdout",
     "output_type": "stream",
     "text": [
      "\n",
      "Validation metrics:\n",
      "Loss: 0.1475\n",
      "Mean AP: 0.7124\n",
      "Previous best MAP: 0.7857\n",
      "Learning rate: 0.000501\n",
      "\n",
      "No improvement. Previous best: 0.7857, Current: 0.7124\n",
      "\n",
      "Epoch 5/10\n"
     ]
    },
    {
     "name": "stderr",
     "output_type": "stream",
     "text": [
      "Epoch 4: 100%|██████████| 51/51 [00:29<00:00,  1.74it/s, loss=0.126] \n"
     ]
    },
    {
     "name": "stdout",
     "output_type": "stream",
     "text": [
      "\n",
      "Training metrics:\n",
      "Loss: 0.1199\n",
      "Mean AP: 0.8503\n"
     ]
    },
    {
     "name": "stderr",
     "output_type": "stream",
     "text": [
      "Validation: 100%|██████████| 15/15 [00:19<00:00,  1.30s/it]\n"
     ]
    },
    {
     "name": "stdout",
     "output_type": "stream",
     "text": [
      "\n",
      "Validation metrics:\n",
      "Loss: 0.0997\n",
      "Mean AP: 0.7533\n",
      "Previous best MAP: 0.7857\n",
      "Learning rate: 0.001000\n",
      "\n",
      "No improvement. Previous best: 0.7857, Current: 0.7533\n",
      "\n",
      "Epoch 6/10\n"
     ]
    },
    {
     "name": "stderr",
     "output_type": "stream",
     "text": [
      "Epoch 5: 100%|██████████| 51/51 [00:28<00:00,  1.77it/s, loss=0.183] \n"
     ]
    },
    {
     "name": "stdout",
     "output_type": "stream",
     "text": [
      "\n",
      "Training metrics:\n",
      "Loss: 0.1084\n",
      "Mean AP: 0.8865\n"
     ]
    },
    {
     "name": "stderr",
     "output_type": "stream",
     "text": [
      "Validation: 100%|██████████| 15/15 [00:19<00:00,  1.31s/it]\n"
     ]
    },
    {
     "name": "stdout",
     "output_type": "stream",
     "text": [
      "\n",
      "Validation metrics:\n",
      "Loss: 0.1167\n",
      "Mean AP: 0.7775\n",
      "Previous best MAP: 0.7857\n",
      "Learning rate: 0.000501\n",
      "\n",
      "No improvement. Previous best: 0.7857, Current: 0.7775\n",
      "\n",
      "Epoch 7/10\n"
     ]
    },
    {
     "name": "stderr",
     "output_type": "stream",
     "text": [
      "Epoch 6: 100%|██████████| 51/51 [00:29<00:00,  1.75it/s, loss=0.0778]\n"
     ]
    },
    {
     "name": "stdout",
     "output_type": "stream",
     "text": [
      "\n",
      "Training metrics:\n",
      "Loss: 0.0813\n",
      "Mean AP: 0.9037\n"
     ]
    },
    {
     "name": "stderr",
     "output_type": "stream",
     "text": [
      "Validation: 100%|██████████| 15/15 [00:19<00:00,  1.27s/it]\n"
     ]
    },
    {
     "name": "stdout",
     "output_type": "stream",
     "text": [
      "\n",
      "Validation metrics:\n",
      "Loss: 0.0648\n",
      "Mean AP: 0.8275\n",
      "Previous best MAP: 0.7857\n",
      "Learning rate: 0.001000\n",
      "\n",
      "Improvement detected! Previous best: 0.7857, Current: 0.8275\n",
      "\n",
      "Attempting to save checkpoint:\n",
      "Current MAP: 0.8275072900032922\n",
      "Best MAP so far: 0.8275072900032922\n",
      "Saving checkpoint to: logs\\cnn_constellation_classification_20241120_145519\\best_model.pt\n",
      "Successfully saved checkpoint!\n",
      "\n",
      "Epoch 8/10\n"
     ]
    },
    {
     "name": "stderr",
     "output_type": "stream",
     "text": [
      "Epoch 7: 100%|██████████| 51/51 [00:28<00:00,  1.77it/s, loss=0.109] \n"
     ]
    },
    {
     "name": "stdout",
     "output_type": "stream",
     "text": [
      "\n",
      "Training metrics:\n",
      "Loss: 0.1019\n",
      "Mean AP: 0.9010\n"
     ]
    },
    {
     "name": "stderr",
     "output_type": "stream",
     "text": [
      "Validation: 100%|██████████| 15/15 [00:19<00:00,  1.30s/it]\n"
     ]
    },
    {
     "name": "stdout",
     "output_type": "stream",
     "text": [
      "\n",
      "Validation metrics:\n",
      "Loss: 0.2500\n",
      "Mean AP: 0.5236\n",
      "Previous best MAP: 0.8275\n",
      "Learning rate: 0.000501\n",
      "\n",
      "No improvement. Previous best: 0.8275, Current: 0.5236\n",
      "\n",
      "Epoch 9/10\n"
     ]
    },
    {
     "name": "stderr",
     "output_type": "stream",
     "text": [
      "Epoch 8: 100%|██████████| 51/51 [00:28<00:00,  1.77it/s, loss=0.0796]\n"
     ]
    },
    {
     "name": "stdout",
     "output_type": "stream",
     "text": [
      "\n",
      "Training metrics:\n",
      "Loss: 0.0812\n",
      "Mean AP: 0.9125\n"
     ]
    },
    {
     "name": "stderr",
     "output_type": "stream",
     "text": [
      "Validation: 100%|██████████| 15/15 [00:19<00:00,  1.29s/it]\n"
     ]
    },
    {
     "name": "stdout",
     "output_type": "stream",
     "text": [
      "\n",
      "Validation metrics:\n",
      "Loss: 0.0547\n",
      "Mean AP: 0.8520\n",
      "Previous best MAP: 0.8275\n",
      "Learning rate: 0.001000\n",
      "\n",
      "Improvement detected! Previous best: 0.8275, Current: 0.8520\n",
      "\n",
      "Attempting to save checkpoint:\n",
      "Current MAP: 0.8519546669866499\n",
      "Best MAP so far: 0.8519546669866499\n",
      "Saving checkpoint to: logs\\cnn_constellation_classification_20241120_145519\\best_model.pt\n",
      "Successfully saved checkpoint!\n",
      "\n",
      "Epoch 10/10\n"
     ]
    },
    {
     "name": "stderr",
     "output_type": "stream",
     "text": [
      "Epoch 9: 100%|██████████| 51/51 [00:28<00:00,  1.77it/s, loss=0.104] \n"
     ]
    },
    {
     "name": "stdout",
     "output_type": "stream",
     "text": [
      "\n",
      "Training metrics:\n",
      "Loss: 0.0706\n",
      "Mean AP: 0.9291\n"
     ]
    },
    {
     "name": "stderr",
     "output_type": "stream",
     "text": [
      "Validation: 100%|██████████| 15/15 [00:19<00:00,  1.30s/it]"
     ]
    },
    {
     "name": "stdout",
     "output_type": "stream",
     "text": [
      "\n",
      "Validation metrics:\n",
      "Loss: 0.0944\n",
      "Mean AP: 0.8298\n",
      "Previous best MAP: 0.8520\n",
      "Learning rate: 0.000501\n",
      "\n",
      "No improvement. Previous best: 0.8520, Current: 0.8298\n"
     ]
    },
    {
     "name": "stderr",
     "output_type": "stream",
     "text": [
      "\n"
     ]
    }
   ],
   "source": [
    "# 4. Training\n",
    "logging.info(\"Starting training...\")\n",
    "\n",
    "trainer = Trainer(\n",
    "    model=model,\n",
    "    data_module=data_module,\n",
    "    config=config['training'],\n",
    "    device=device,\n",
    "    experiment_name=experiment_name,\n",
    "    use_wandb=config['logging']['use_wandb']\n",
    ")\n",
    "trainer.train(num_epochs=config['training']['num_epochs'])"
   ]
  },
  {
   "cell_type": "code",
   "execution_count": 10,
   "metadata": {},
   "outputs": [],
   "source": [
    "\n",
    "# 5. Visualization and Analysis\n",
    "logging.info(\"Running visualization pipeline...\")\n",
    "\n",
    "viz_manager = VisualizationManager(\n",
    "    save_dir=log_dir / 'visualizations',\n",
    "    class_names=data_module.datasets[DatasetType.TRAIN].class_columns\n",
    ")\n",
    "\n",
    "# Get validation predictions for visualization\n",
    "val_loader = data_module.get_dataloader(DatasetType.VALID)\n",
    "all_preds = []\n",
    "all_targets = []\n",
    "all_images = []\n",
    "\n",
    "model.eval()\n",
    "with torch.no_grad():\n",
    "    for images, targets in val_loader:\n",
    "        images = images.to(device)\n",
    "        outputs = model(images)\n",
    "        predictions = torch.sigmoid(outputs)\n",
    "        all_preds.append(predictions.cpu())\n",
    "        all_targets.append(targets)\n",
    "        all_images.append(images.cpu())\n",
    "\n",
    "all_preds = torch.cat(all_preds)\n",
    "all_targets = torch.cat(all_targets)\n",
    "all_images = torch.cat(all_images)\n",
    "\n",
    "# Create visualizations\n",
    "viz_manager.visualize_predictions(all_images[:16], all_preds[:16], all_targets[:16])"
   ]
  },
  {
   "cell_type": "code",
   "execution_count": 11,
   "metadata": {},
   "outputs": [],
   "source": [
    "viz_manager.plot_roc_curves(all_preds.numpy(), all_targets.numpy())"
   ]
  },
  {
   "cell_type": "code",
   "execution_count": 12,
   "metadata": {},
   "outputs": [],
   "source": [
    "viz_manager.plot_precision_recall_curves(all_preds.numpy(), all_targets.numpy())\n",
    "logging.info(\"Pipeline execution completed successfully\")"
   ]
  },
  {
   "cell_type": "code",
   "execution_count": null,
   "metadata": {},
   "outputs": [
    {
     "name": "stderr",
     "output_type": "stream",
     "text": [
      "c:\\Users\\sivap\\anaconda3\\envs\\stellar\\Lib\\site-packages\\torchvision\\models\\_utils.py:208: UserWarning: The parameter 'pretrained' is deprecated since 0.13 and may be removed in the future, please use 'weights' instead.\n",
      "  warnings.warn(\n",
      "c:\\Users\\sivap\\anaconda3\\envs\\stellar\\Lib\\site-packages\\torchvision\\models\\_utils.py:223: UserWarning: Arguments other than a weight enum or `None` for 'weights' are deprecated since 0.13 and may be removed in the future. The current behavior is equivalent to passing `weights=ResNet50_Weights.IMAGENET1K_V1`. You can also use `weights=ResNet50_Weights.DEFAULT` to get the most up-to-date weights.\n",
      "  warnings.warn(msg)\n",
      "e:\\University\\CU_Classes\\Year-1\\Fall 2024\\CSCI_5502_Data Mining\\Milestone_project\\stellar_mapping\\src\\analytics\\image_analytics\\models\\CNN\\cnn_inference.py:60: FutureWarning: You are using `torch.load` with `weights_only=False` (the current default value), which uses the default pickle module implicitly. It is possible to construct malicious pickle data which will execute arbitrary code during unpickling (See https://github.com/pytorch/pytorch/blob/main/SECURITY.md#untrusted-models for more details). In a future release, the default value for `weights_only` will be flipped to `True`. This limits the functions that could be executed during unpickling. Arbitrary objects will no longer be allowed to be loaded via this mode unless they are explicitly allowlisted by the user via `torch.serialization.add_safe_globals`. We recommend you start setting `weights_only=True` for any use case where you don't have full control of the loaded file. Please open an issue on GitHub for any issues related to this experimental feature.\n",
      "  checkpoint = torch.load(model_path, map_location=self.device)\n"
     ]
    },
    {
     "data": {
      "text/plain": [
       "True"
      ]
     },
     "execution_count": 3,
     "metadata": {},
     "output_type": "execute_result"
    }
   ],
   "source": [
    "from cnn_inference import CNNPredictor\n",
    "import cv2\n",
    "\n",
    "# Initialize predictor\n",
    "predictor = CNNPredictor(\n",
    "    model_path=\"logs/cnn_constellation_classification_20241120_145519/best_model.pt\",\n",
    "    config_path=\"config.yaml\"\n",
    ")\n",
    "\n",
    "# Test single image prediction\n",
    "image_path = r\"data\\constellation_dataset_1\\test\\images\\2022-01-05-00-00-00-s_png_jpg.rf.098ebe8a5c09f983736111049dfefc1d.jpg\"\n",
    "predictions, visualization = predictor.predict(\n",
    "    image_path,\n",
    "    conf_thresh=0.5,\n",
    "    return_visualization=True\n",
    ")\n",
    "\n",
    "# Save results\n",
    "output_dir = Path(\"inference_results/cnn\")\n",
    "output_dir.mkdir(parents=True, exist_ok=True)\n",
    "\n",
    "cv2.imwrite(\n",
    "    str(output_dir / \"prediction.jpg\"),\n",
    "    visualization\n",
    ")"
   ]
  },
  {
   "cell_type": "code",
   "execution_count": null,
   "metadata": {},
   "outputs": [],
   "source": []
  }
 ],
 "metadata": {
  "kernelspec": {
   "display_name": "stellar",
   "language": "python",
   "name": "python3"
  },
  "language_info": {
   "codemirror_mode": {
    "name": "ipython",
    "version": 3
   },
   "file_extension": ".py",
   "mimetype": "text/x-python",
   "name": "python",
   "nbconvert_exporter": "python",
   "pygments_lexer": "ipython3",
   "version": "3.11.9"
  }
 },
 "nbformat": 4,
 "nbformat_minor": 2
}
