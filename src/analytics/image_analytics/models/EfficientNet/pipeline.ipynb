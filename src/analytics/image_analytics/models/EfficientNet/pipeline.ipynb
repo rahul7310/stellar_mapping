{
 "cells": [
  {
   "cell_type": "code",
   "execution_count": null,
   "metadata": {},
   "outputs": [
    {
     "name": "stderr",
     "output_type": "stream",
     "text": [
      "\u001b[34m\u001b[1mwandb\u001b[0m: Using wandb-core as the SDK backend.  Please refer to https://wandb.me/wandb-core for more information.\n",
      "\u001b[34m\u001b[1mwandb\u001b[0m: Currently logged in as: \u001b[33marsive\u001b[0m. Use \u001b[1m`wandb login --relogin`\u001b[0m to force relogin\n"
     ]
    },
    {
     "data": {
      "text/html": [
       "Tracking run with wandb version 0.18.7"
      ],
      "text/plain": [
       "<IPython.core.display.HTML object>"
      ]
     },
     "metadata": {},
     "output_type": "display_data"
    },
    {
     "data": {
      "text/html": [
       "Run data is saved locally in <code>e:\\University\\CU_Classes\\Year-1\\Fall 2024\\CSCI_5502_Data Mining\\Milestone_project\\stellar_mapping\\src\\analytics\\image_analytics\\models\\EfficientNet\\wandb\\run-20241122_081600-wqktqbcs</code>"
      ],
      "text/plain": [
       "<IPython.core.display.HTML object>"
      ]
     },
     "metadata": {},
     "output_type": "display_data"
    },
    {
     "data": {
      "text/html": [
       "Syncing run <strong><a href='https://wandb.ai/arsive/efficientnet-b0/runs/wqktqbcs' target=\"_blank\">earnest-bee-2</a></strong> to <a href='https://wandb.ai/arsive/efficientnet-b0' target=\"_blank\">Weights & Biases</a> (<a href='https://wandb.me/developer-guide' target=\"_blank\">docs</a>)<br/>"
      ],
      "text/plain": [
       "<IPython.core.display.HTML object>"
      ]
     },
     "metadata": {},
     "output_type": "display_data"
    },
    {
     "data": {
      "text/html": [
       " View project at <a href='https://wandb.ai/arsive/efficientnet-b0' target=\"_blank\">https://wandb.ai/arsive/efficientnet-b0</a>"
      ],
      "text/plain": [
       "<IPython.core.display.HTML object>"
      ]
     },
     "metadata": {},
     "output_type": "display_data"
    },
    {
     "data": {
      "text/html": [
       " View run at <a href='https://wandb.ai/arsive/efficientnet-b0/runs/wqktqbcs' target=\"_blank\">https://wandb.ai/arsive/efficientnet-b0/runs/wqktqbcs</a>"
      ],
      "text/plain": [
       "<IPython.core.display.HTML object>"
      ]
     },
     "metadata": {},
     "output_type": "display_data"
    },
    {
     "name": "stdout",
     "output_type": "stream",
     "text": [
      "Using device: cpu\n"
     ]
    }
   ],
   "source": [
    "import os\n",
    "import random\n",
    "import numpy as np\n",
    "import pandas as pd\n",
    "import torch\n",
    "import torch.nn as nn\n",
    "from torch.utils.data import Dataset, DataLoader\n",
    "from torchvision import transforms\n",
    "from PIL import Image\n",
    "from transformers import AutoImageProcessor, AutoModelForImageClassification, Trainer, TrainingArguments\n",
    "import wandb\n",
    "from sklearn.metrics import accuracy_score, f1_score, roc_curve, auc\n",
    "import torch.optim as optim\n",
    "\n",
    "import wandb\n",
    "\n",
    "# Initialize the wandb run\n",
    "wandb.init(project=\"efficientnet-b0\")\n",
    "\n",
    "def set_seed(seed):\n",
    "    random.seed(seed)\n",
    "    np.random.seed(seed)\n",
    "    torch.manual_seed(seed)\n",
    "    torch.cuda.manual_seed_all(seed)\n",
    "\n",
    "set_seed(42)\n",
    "\n",
    "# Use CPU as the device\n",
    "device = torch.device(\"cpu\")\n",
    "print(f\"Using device: {device}\")\n",
    "\n",
    "# Define a path to your dataset\n",
    "dataset_path = r'data\\constellation_dataset_1'\n",
    "\n",
    "# Load CSV labels (this will change for train, valid, and test)\n",
    "def load_labels(csv_path):\n",
    "    return pd.read_csv(csv_path)\n",
    "\n",
    "# Define transformations for images\n",
    "transform = transforms.Compose([\n",
    "    transforms.RandomResizedCrop(224),\n",
    "    transforms.RandomHorizontalFlip(),\n",
    "    transforms.RandomRotation(10),\n",
    "    transforms.ColorJitter(brightness=0.2, contrast=0.2),\n",
    "    transforms.ToTensor(),\n",
    "    transforms.Normalize(mean=[0.485, 0.456, 0.406], std=[0.229, 0.224, 0.225])\n",
    "])\n",
    "\n",
    "# Dataset class\n",
    "class ConstellationDataset(Dataset):\n",
    "    def __init__(self, data, img_dir, transform=None):\n",
    "        self.data = data\n",
    "        self.img_dir = img_dir\n",
    "        self.transform = transform\n",
    "        # Initialize the image processor (ensure this is compatible with the model you're using)\n",
    "        self.processor = AutoImageProcessor.from_pretrained(\"google/efficientnet-b0\")\n",
    "    \n",
    "    def __len__(self):\n",
    "        return len(self.data)\n",
    "    \n",
    "    def __getitem__(self, idx):\n",
    "        img_name = self.data.iloc[idx, 0]  # First column is filename\n",
    "        img_path = os.path.join(self.img_dir, img_name)\n",
    "        image = Image.open(img_path).convert(\"RGB\")\n",
    "        \n",
    "        # Extract the labels (all other columns in the CSV file)\n",
    "        labels = self.data.iloc[idx, 1:].values  # Columns 1 to n are labels\n",
    "        \n",
    "        # Convert labels to numeric values (ensure they are floats)\n",
    "        labels = np.asarray(labels, dtype=np.float32)  # Ensure they are float32\n",
    "        \n",
    "        # If any label value is 'nan' or 'None', replace it with 0 (or any default value)\n",
    "        labels = np.nan_to_num(labels, nan=0.0)\n",
    "        \n",
    "        # Convert to a PyTorch tensor\n",
    "        labels_tensor = torch.tensor(labels, dtype=torch.float32).to(device)\n",
    "        \n",
    "        # Preprocess the image using the processor (converts image to pixel_values)\n",
    "        encoding = self.processor(images=image, return_tensors=\"pt\")\n",
    "        pixel_values = encoding.pixel_values.squeeze(0).to(device)\n",
    "        \n",
    "        return {\n",
    "            'pixel_values': pixel_values,\n",
    "            'labels': labels_tensor\n",
    "        }\n",
    "\n",
    "# Load the CSV files and prepare datasets\n",
    "train_labels = load_labels(os.path.join(dataset_path, 'train', '_classes.csv'))\n",
    "valid_labels = load_labels(os.path.join(dataset_path, 'valid', '_classes.csv'))\n",
    "test_labels = load_labels(os.path.join(dataset_path, 'test', '_classes.csv'))\n",
    "\n",
    "train_dataset = ConstellationDataset(train_labels, os.path.join(dataset_path, 'train', 'images'), transform)\n",
    "valid_dataset = ConstellationDataset(valid_labels, os.path.join(dataset_path, 'valid', 'images'), transform)\n",
    "test_dataset = ConstellationDataset(test_labels, os.path.join(dataset_path, 'test', 'images'), transform)\n",
    "\n",
    "train_loader = DataLoader(train_dataset, batch_size=32, shuffle=True)\n",
    "valid_loader = DataLoader(valid_dataset, batch_size=64, shuffle=False)\n",
    "test_loader = DataLoader(test_dataset, batch_size=64, shuffle=False)\n"
   ]
  },
  {
   "cell_type": "code",
   "execution_count": 2,
   "metadata": {},
   "outputs": [],
   "source": [
    "\n",
    "# Load the model\n",
    "processor = AutoImageProcessor.from_pretrained(\"google/efficientnet-b0\")\n",
    "model = AutoModelForImageClassification.from_pretrained(\"google/efficientnet-b0\")\n",
    "model.to(device)\n",
    "\n",
    "\n",
    "# Modify the classifier layer for multi-label classification\n",
    "model.classifier = nn.Sequential(\n",
    "    nn.Linear(model.classifier.in_features, 512),\n",
    "    nn.BatchNorm1d(512),\n",
    "    nn.ReLU(),\n",
    "    nn.Dropout(0.3),\n",
    "    nn.Linear(512, 256),\n",
    "    nn.BatchNorm1d(256), \n",
    "    nn.ReLU(),\n",
    "    nn.Dropout(0.3),\n",
    "    nn.Linear(256, 16),\n",
    "    nn.Sigmoid()\n",
    ")\n",
    "\n",
    "def init_weights(m):\n",
    "    if isinstance(m, nn.Linear):\n",
    "        torch.nn.init.kaiming_normal_(m.weight)\n",
    "        m.bias.data.fill_(0.01)\n",
    "\n",
    "model.classifier.apply(init_weights)\n",
    "\n",
    "# Define the optimizer\n",
    "optimizer = optim.AdamW(model.parameters(), lr=1e-3)\n",
    "\n",
    "# Add learning rate scheduler\n",
    "scheduler = torch.optim.lr_scheduler.ReduceLROnPlateau(\n",
    "    optimizer,\n",
    "    mode='min',\n",
    "    factor=0.5,\n",
    "    patience=3,\n",
    "    verbose=True\n",
    ")\n"
   ]
  },
  {
   "cell_type": "code",
   "execution_count": 3,
   "metadata": {},
   "outputs": [
    {
     "name": "stderr",
     "output_type": "stream",
     "text": [
      "c:\\Users\\sivap\\anaconda3\\envs\\stellar\\Lib\\site-packages\\transformers\\training_args.py:1545: FutureWarning: `evaluation_strategy` is deprecated and will be removed in version 4.46 of 🤗 Transformers. Use `eval_strategy` instead\n",
      "  warnings.warn(\n"
     ]
    }
   ],
   "source": [
    "\n",
    "# Define a function to compute metrics (accuracy, F1 score, and ROC-AUC)\n",
    "def compute_metrics(p):\n",
    "    preds, labels = p\n",
    "    preds = (preds > 0.5).astype(int)\n",
    "    accuracy = accuracy_score(labels, preds)\n",
    "    f1 = f1_score(labels, preds, average='weighted')\n",
    "    fpr, tpr, _ = roc_curve(labels.flatten(), preds.flatten())\n",
    "    roc_auc = auc(fpr, tpr)\n",
    "    return {\"accuracy\": accuracy, \"f1\": f1, \"roc_auc\": roc_auc}\n",
    "\n",
    "# Training arguments\n",
    "training_args = TrainingArguments(\n",
    "    output_dir=\"./results\",\n",
    "    num_train_epochs=10,  # Increase the number of epochs\n",
    "    per_device_train_batch_size=32,\n",
    "    per_device_eval_batch_size=32,\n",
    "    evaluation_strategy=\"epoch\",\n",
    "    save_strategy=\"epoch\",\n",
    "    logging_dir=\"./logs\",\n",
    "    logging_steps=10,\n",
    "    save_steps=100,\n",
    "    load_best_model_at_end=True,\n",
    "    fp16=False,  # No mixed precision on CPU\n",
    "    learning_rate=1e-3,\n",
    "    weight_decay=0.01,\n",
    "    warmup_ratio=0.1,\n",
    "    max_grad_norm=1.0,\n",
    "    report_to=\"wandb\"\n",
    ")\n",
    "\n",
    "# Define the trainer\n",
    "trainer = Trainer(\n",
    "    model=model,\n",
    "    args=training_args,\n",
    "    train_dataset=train_dataset,\n",
    "    eval_dataset=valid_dataset,\n",
    "    compute_metrics=compute_metrics,\n",
    ")\n"
   ]
  },
  {
   "cell_type": "code",
   "execution_count": 4,
   "metadata": {},
   "outputs": [
    {
     "name": "stderr",
     "output_type": "stream",
     "text": [
      "\u001b[34m\u001b[1mwandb\u001b[0m: \u001b[33mWARNING\u001b[0m The `run_name` is currently set to the same value as `TrainingArguments.output_dir`. If this was not intended, please specify a different run name by setting the `TrainingArguments.run_name` parameter.\n"
     ]
    },
    {
     "data": {
      "application/vnd.jupyter.widget-view+json": {
       "model_id": "e64fbb6e83d24fa49438e5b9ff551ab8",
       "version_major": 2,
       "version_minor": 0
      },
      "text/plain": [
       "  0%|          | 0/520 [00:00<?, ?it/s]"
      ]
     },
     "metadata": {},
     "output_type": "display_data"
    },
    {
     "name": "stdout",
     "output_type": "stream",
     "text": [
      "{'loss': 0.8602, 'grad_norm': 0.4027891159057617, 'learning_rate': 0.00019230769230769233, 'epoch': 0.19}\n",
      "{'loss': 0.8402, 'grad_norm': 0.32826748490333557, 'learning_rate': 0.00038461538461538467, 'epoch': 0.38}\n",
      "{'loss': 0.7964, 'grad_norm': 0.278286874294281, 'learning_rate': 0.0005769230769230769, 'epoch': 0.58}\n",
      "{'loss': 0.738, 'grad_norm': 0.1702919453382492, 'learning_rate': 0.0007692307692307693, 'epoch': 0.77}\n",
      "{'loss': 0.7029, 'grad_norm': 0.10570020973682404, 'learning_rate': 0.0009615384615384616, 'epoch': 0.96}\n"
     ]
    },
    {
     "data": {
      "application/vnd.jupyter.widget-view+json": {
       "model_id": "2fd540162d534c6ebdde609d6e260b79",
       "version_major": 2,
       "version_minor": 0
      },
      "text/plain": [
       "  0%|          | 0/15 [00:00<?, ?it/s]"
      ]
     },
     "metadata": {},
     "output_type": "display_data"
    },
    {
     "name": "stdout",
     "output_type": "stream",
     "text": [
      "{'eval_loss': 0.6927651166915894, 'eval_accuracy': 0.2345415778251599, 'eval_f1': 0.7004735499583912, 'eval_roc_auc': 0.7999291123793116, 'eval_runtime': 3.1162, 'eval_samples_per_second': 150.504, 'eval_steps_per_second': 4.814, 'epoch': 1.0}\n",
      "{'loss': 0.6816, 'grad_norm': 0.08787744492292404, 'learning_rate': 0.0009829059829059828, 'epoch': 1.15}\n",
      "{'loss': 0.6722, 'grad_norm': 0.06512584537267685, 'learning_rate': 0.0009615384615384616, 'epoch': 1.35}\n",
      "{'loss': 0.6611, 'grad_norm': 0.056034885346889496, 'learning_rate': 0.0009401709401709402, 'epoch': 1.54}\n",
      "{'loss': 0.6631, 'grad_norm': 0.06368554383516312, 'learning_rate': 0.0009188034188034187, 'epoch': 1.73}\n",
      "{'loss': 0.6482, 'grad_norm': 0.05745115131139755, 'learning_rate': 0.0008974358974358974, 'epoch': 1.92}\n"
     ]
    },
    {
     "data": {
      "application/vnd.jupyter.widget-view+json": {
       "model_id": "58aa8131fe9c4c8198e71db0041a89a3",
       "version_major": 2,
       "version_minor": 0
      },
      "text/plain": [
       "  0%|          | 0/15 [00:00<?, ?it/s]"
      ]
     },
     "metadata": {},
     "output_type": "display_data"
    },
    {
     "name": "stdout",
     "output_type": "stream",
     "text": [
      "{'eval_loss': 0.6446645259857178, 'eval_accuracy': 0.55863539445629, 'eval_f1': 0.8960006512080296, 'eval_roc_auc': 0.9166123793115826, 'eval_runtime': 2.9966, 'eval_samples_per_second': 156.51, 'eval_steps_per_second': 5.006, 'epoch': 2.0}\n",
      "{'loss': 0.6548, 'grad_norm': 0.05035321041941643, 'learning_rate': 0.0008760683760683761, 'epoch': 2.12}\n",
      "{'loss': 0.646, 'grad_norm': 0.054997317492961884, 'learning_rate': 0.0008547008547008547, 'epoch': 2.31}\n",
      "{'loss': 0.645, 'grad_norm': 0.05305401235818863, 'learning_rate': 0.0008333333333333334, 'epoch': 2.5}\n",
      "{'loss': 0.6474, 'grad_norm': 0.05746385455131531, 'learning_rate': 0.000811965811965812, 'epoch': 2.69}\n",
      "{'loss': 0.644, 'grad_norm': 0.04523672163486481, 'learning_rate': 0.0007905982905982905, 'epoch': 2.88}\n"
     ]
    },
    {
     "data": {
      "application/vnd.jupyter.widget-view+json": {
       "model_id": "f8a14cd985514b33b42ab77e7d89a443",
       "version_major": 2,
       "version_minor": 0
      },
      "text/plain": [
       "  0%|          | 0/15 [00:00<?, ?it/s]"
      ]
     },
     "metadata": {},
     "output_type": "display_data"
    },
    {
     "name": "stdout",
     "output_type": "stream",
     "text": [
      "{'eval_loss': 0.6376723051071167, 'eval_accuracy': 0.6183368869936035, 'eval_f1': 0.917876540485088, 'eval_roc_auc': 0.9324732601127024, 'eval_runtime': 2.8091, 'eval_samples_per_second': 166.96, 'eval_steps_per_second': 5.34, 'epoch': 3.0}\n",
      "{'loss': 0.6461, 'grad_norm': 0.032336313277482986, 'learning_rate': 0.0007692307692307693, 'epoch': 3.08}\n",
      "{'loss': 0.6433, 'grad_norm': 0.04790787771344185, 'learning_rate': 0.0007478632478632479, 'epoch': 3.27}\n",
      "{'loss': 0.6378, 'grad_norm': 0.04472923278808594, 'learning_rate': 0.0007264957264957265, 'epoch': 3.46}\n",
      "{'loss': 0.6382, 'grad_norm': 0.04825100675225258, 'learning_rate': 0.0007051282051282052, 'epoch': 3.65}\n",
      "{'loss': 0.6365, 'grad_norm': 0.05675205960869789, 'learning_rate': 0.0006837606837606838, 'epoch': 3.85}\n"
     ]
    },
    {
     "data": {
      "application/vnd.jupyter.widget-view+json": {
       "model_id": "03d1e989d71b458fa292c89f63c1fb37",
       "version_major": 2,
       "version_minor": 0
      },
      "text/plain": [
       "  0%|          | 0/15 [00:00<?, ?it/s]"
      ]
     },
     "metadata": {},
     "output_type": "display_data"
    },
    {
     "name": "stdout",
     "output_type": "stream",
     "text": [
      "{'eval_loss': 0.6399676203727722, 'eval_accuracy': 0.6119402985074627, 'eval_f1': 0.8869254956922701, 'eval_roc_auc': 0.9085931050572486, 'eval_runtime': 2.8572, 'eval_samples_per_second': 164.145, 'eval_steps_per_second': 5.25, 'epoch': 4.0}\n",
      "{'loss': 0.6416, 'grad_norm': 0.03696734085679054, 'learning_rate': 0.0006623931623931623, 'epoch': 4.04}\n",
      "{'loss': 0.6379, 'grad_norm': 0.047932278364896774, 'learning_rate': 0.0006410256410256411, 'epoch': 4.23}\n",
      "{'loss': 0.6369, 'grad_norm': 0.049485012888908386, 'learning_rate': 0.0006196581196581197, 'epoch': 4.42}\n",
      "{'loss': 0.6348, 'grad_norm': 0.04207012429833412, 'learning_rate': 0.0005982905982905983, 'epoch': 4.62}\n",
      "{'loss': 0.6392, 'grad_norm': 0.03545180708169937, 'learning_rate': 0.0005769230769230769, 'epoch': 4.81}\n",
      "{'loss': 0.6376, 'grad_norm': 0.09927377849817276, 'learning_rate': 0.0005555555555555556, 'epoch': 5.0}\n"
     ]
    },
    {
     "data": {
      "application/vnd.jupyter.widget-view+json": {
       "model_id": "dcd3c28f1a7a4e73a865e3923eab0a26",
       "version_major": 2,
       "version_minor": 0
      },
      "text/plain": [
       "  0%|          | 0/15 [00:00<?, ?it/s]"
      ]
     },
     "metadata": {},
     "output_type": "display_data"
    },
    {
     "name": "stdout",
     "output_type": "stream",
     "text": [
      "{'eval_loss': 0.6342151165008545, 'eval_accuracy': 0.697228144989339, 'eval_f1': 0.9329899964186749, 'eval_roc_auc': 0.9543308746994006, 'eval_runtime': 2.8569, 'eval_samples_per_second': 164.164, 'eval_steps_per_second': 5.25, 'epoch': 5.0}\n",
      "{'loss': 0.6357, 'grad_norm': 0.03855603188276291, 'learning_rate': 0.0005341880341880342, 'epoch': 5.19}\n",
      "{'loss': 0.6347, 'grad_norm': 0.03702457994222641, 'learning_rate': 0.0005128205128205128, 'epoch': 5.38}\n",
      "{'loss': 0.631, 'grad_norm': 0.04006663337349892, 'learning_rate': 0.0004914529914529914, 'epoch': 5.58}\n",
      "{'loss': 0.6364, 'grad_norm': 0.035631921142339706, 'learning_rate': 0.0004700854700854701, 'epoch': 5.77}\n",
      "{'loss': 0.6349, 'grad_norm': 0.03252111375331879, 'learning_rate': 0.0004487179487179487, 'epoch': 5.96}\n"
     ]
    },
    {
     "data": {
      "application/vnd.jupyter.widget-view+json": {
       "model_id": "917687da47ca49ec9d484a02788c702d",
       "version_major": 2,
       "version_minor": 0
      },
      "text/plain": [
       "  0%|          | 0/15 [00:00<?, ?it/s]"
      ]
     },
     "metadata": {},
     "output_type": "display_data"
    },
    {
     "name": "stdout",
     "output_type": "stream",
     "text": [
      "{'eval_loss': 0.6346331238746643, 'eval_accuracy': 0.7057569296375267, 'eval_f1': 0.9387813421119401, 'eval_roc_auc': 0.9605066221600086, 'eval_runtime': 2.8142, 'eval_samples_per_second': 166.654, 'eval_steps_per_second': 5.33, 'epoch': 6.0}\n",
      "{'loss': 0.6358, 'grad_norm': 0.07679057121276855, 'learning_rate': 0.00042735042735042735, 'epoch': 6.15}\n",
      "{'loss': 0.6353, 'grad_norm': 0.033963192254304886, 'learning_rate': 0.000405982905982906, 'epoch': 6.35}\n",
      "{'loss': 0.6335, 'grad_norm': 0.05082681402564049, 'learning_rate': 0.00038461538461538467, 'epoch': 6.54}\n",
      "{'loss': 0.6293, 'grad_norm': 0.041747137904167175, 'learning_rate': 0.00036324786324786325, 'epoch': 6.73}\n",
      "{'loss': 0.6337, 'grad_norm': 0.03903717175126076, 'learning_rate': 0.0003418803418803419, 'epoch': 6.92}\n"
     ]
    },
    {
     "data": {
      "application/vnd.jupyter.widget-view+json": {
       "model_id": "952a80e559f7458cad9c10b7959452d8",
       "version_major": 2,
       "version_minor": 0
      },
      "text/plain": [
       "  0%|          | 0/15 [00:00<?, ?it/s]"
      ]
     },
     "metadata": {},
     "output_type": "display_data"
    },
    {
     "name": "stdout",
     "output_type": "stream",
     "text": [
      "{'eval_loss': 0.6342683434486389, 'eval_accuracy': 0.7356076759061834, 'eval_f1': 0.9360943291993804, 'eval_roc_auc': 0.9552555543591401, 'eval_runtime': 2.9516, 'eval_samples_per_second': 158.899, 'eval_steps_per_second': 5.082, 'epoch': 7.0}\n",
      "{'loss': 0.6343, 'grad_norm': 0.032815828919410706, 'learning_rate': 0.00032051282051282057, 'epoch': 7.12}\n",
      "{'loss': 0.6329, 'grad_norm': 0.041105613112449646, 'learning_rate': 0.00029914529914529915, 'epoch': 7.31}\n",
      "{'loss': 0.6293, 'grad_norm': 0.03714907914400101, 'learning_rate': 0.0002777777777777778, 'epoch': 7.5}\n",
      "{'loss': 0.6301, 'grad_norm': 0.03589386120438576, 'learning_rate': 0.0002564102564102564, 'epoch': 7.69}\n",
      "{'loss': 0.6325, 'grad_norm': 0.05599692091345787, 'learning_rate': 0.00023504273504273504, 'epoch': 7.88}\n"
     ]
    },
    {
     "data": {
      "application/vnd.jupyter.widget-view+json": {
       "model_id": "a012062496c04b0880c512a30d317672",
       "version_major": 2,
       "version_minor": 0
      },
      "text/plain": [
       "  0%|          | 0/15 [00:00<?, ?it/s]"
      ]
     },
     "metadata": {},
     "output_type": "display_data"
    },
    {
     "name": "stdout",
     "output_type": "stream",
     "text": [
      "{'eval_loss': 0.6305115818977356, 'eval_accuracy': 0.7611940298507462, 'eval_f1': 0.9548292304922198, 'eval_roc_auc': 0.9711222676860127, 'eval_runtime': 3.0062, 'eval_samples_per_second': 156.009, 'eval_steps_per_second': 4.99, 'epoch': 8.0}\n",
      "{'loss': 0.6327, 'grad_norm': 0.02362099476158619, 'learning_rate': 0.00021367521367521368, 'epoch': 8.08}\n",
      "{'loss': 0.6322, 'grad_norm': 0.03486969321966171, 'learning_rate': 0.00019230769230769233, 'epoch': 8.27}\n",
      "{'loss': 0.6281, 'grad_norm': 0.025667568668723106, 'learning_rate': 0.00017094017094017094, 'epoch': 8.46}\n",
      "{'loss': 0.634, 'grad_norm': 0.04850420728325844, 'learning_rate': 0.00014957264957264957, 'epoch': 8.65}\n",
      "{'loss': 0.6344, 'grad_norm': 0.03638933598995209, 'learning_rate': 0.0001282051282051282, 'epoch': 8.85}\n"
     ]
    },
    {
     "data": {
      "application/vnd.jupyter.widget-view+json": {
       "model_id": "820589ba88d644a5a2d01eaf9eba84c6",
       "version_major": 2,
       "version_minor": 0
      },
      "text/plain": [
       "  0%|          | 0/15 [00:00<?, ?it/s]"
      ]
     },
     "metadata": {},
     "output_type": "display_data"
    },
    {
     "name": "stdout",
     "output_type": "stream",
     "text": [
      "{'eval_loss': 0.6266661882400513, 'eval_accuracy': 0.837953091684435, 'eval_f1': 0.9712314433481823, 'eval_roc_auc': 0.9792667169161193, 'eval_runtime': 3.5216, 'eval_samples_per_second': 133.176, 'eval_steps_per_second': 4.259, 'epoch': 9.0}\n",
      "{'loss': 0.6326, 'grad_norm': 0.03059285879135132, 'learning_rate': 0.00010683760683760684, 'epoch': 9.04}\n",
      "{'loss': 0.6336, 'grad_norm': 0.049443043768405914, 'learning_rate': 8.547008547008547e-05, 'epoch': 9.23}\n",
      "{'loss': 0.628, 'grad_norm': 0.03177700564265251, 'learning_rate': 6.41025641025641e-05, 'epoch': 9.42}\n",
      "{'loss': 0.6312, 'grad_norm': 0.020306626334786415, 'learning_rate': 4.2735042735042735e-05, 'epoch': 9.62}\n",
      "{'loss': 0.6309, 'grad_norm': 0.028399361297488213, 'learning_rate': 2.1367521367521368e-05, 'epoch': 9.81}\n",
      "{'loss': 0.6262, 'grad_norm': 0.15481750667095184, 'learning_rate': 0.0, 'epoch': 10.0}\n"
     ]
    },
    {
     "data": {
      "application/vnd.jupyter.widget-view+json": {
       "model_id": "e940f3c6229f4ecca2186cac97d5b1eb",
       "version_major": 2,
       "version_minor": 0
      },
      "text/plain": [
       "  0%|          | 0/15 [00:00<?, ?it/s]"
      ]
     },
     "metadata": {},
     "output_type": "display_data"
    },
    {
     "name": "stdout",
     "output_type": "stream",
     "text": [
      "{'eval_loss': 0.6275761127471924, 'eval_accuracy': 0.8208955223880597, 'eval_f1': 0.9660634190523598, 'eval_roc_auc': 0.9749636588780016, 'eval_runtime': 3.4908, 'eval_samples_per_second': 134.352, 'eval_steps_per_second': 4.297, 'epoch': 10.0}\n",
      "{'train_runtime': 182.4844, 'train_samples_per_second': 89.925, 'train_steps_per_second': 2.85, 'train_loss': 0.6533557873505812, 'epoch': 10.0}\n"
     ]
    },
    {
     "data": {
      "text/plain": [
       "TrainOutput(global_step=520, training_loss=0.6533557873505812, metrics={'train_runtime': 182.4844, 'train_samples_per_second': 89.925, 'train_steps_per_second': 2.85, 'total_flos': 7.114660613480448e+16, 'train_loss': 0.6533557873505812, 'epoch': 10.0})"
      ]
     },
     "execution_count": 4,
     "metadata": {},
     "output_type": "execute_result"
    }
   ],
   "source": [
    "\n",
    "# Train the model\n",
    "trainer.train()\n"
   ]
  },
  {
   "cell_type": "code",
   "execution_count": null,
   "metadata": {},
   "outputs": [
    {
     "data": {
      "application/vnd.jupyter.widget-view+json": {
       "model_id": "9db8833ba4194ebd93364cc59e6c725d",
       "version_major": 2,
       "version_minor": 0
      },
      "text/plain": [
       "  0%|          | 0/15 [00:00<?, ?it/s]"
      ]
     },
     "metadata": {},
     "output_type": "display_data"
    }
   ],
   "source": [
    "\n",
    "# Evaluate the model\n",
    "eval_results = trainer.evaluate()\n"
   ]
  },
  {
   "cell_type": "code",
   "execution_count": 9,
   "metadata": {},
   "outputs": [
    {
     "data": {
      "text/plain": [
       "{'eval_loss': 0.6266661882400513,\n",
       " 'eval_accuracy': 0.837953091684435,\n",
       " 'eval_f1': 0.9712314433481823,\n",
       " 'eval_roc_auc': 0.9792667169161193,\n",
       " 'eval_runtime': 2.9087,\n",
       " 'eval_samples_per_second': 161.24,\n",
       " 'eval_steps_per_second': 5.157,\n",
       " 'epoch': 10.0}"
      ]
     },
     "execution_count": 9,
     "metadata": {},
     "output_type": "execute_result"
    }
   ],
   "source": [
    "eval_results"
   ]
  },
  {
   "cell_type": "code",
   "execution_count": 6,
   "metadata": {},
   "outputs": [],
   "source": [
    "\n",
    "# Save the model\n",
    "model.save_pretrained(\"efficientnet_constellation_classification_cpu\")"
   ]
  },
  {
   "cell_type": "code",
   "execution_count": 13,
   "metadata": {},
   "outputs": [
    {
     "data": {
      "text/plain": [
       "[{'loss': 0.8602,\n",
       "  'grad_norm': 0.4027891159057617,\n",
       "  'learning_rate': 0.00019230769230769233,\n",
       "  'epoch': 0.19230769230769232,\n",
       "  'step': 10},\n",
       " {'loss': 0.8402,\n",
       "  'grad_norm': 0.32826748490333557,\n",
       "  'learning_rate': 0.00038461538461538467,\n",
       "  'epoch': 0.38461538461538464,\n",
       "  'step': 20},\n",
       " {'loss': 0.7964,\n",
       "  'grad_norm': 0.278286874294281,\n",
       "  'learning_rate': 0.0005769230769230769,\n",
       "  'epoch': 0.5769230769230769,\n",
       "  'step': 30},\n",
       " {'loss': 0.738,\n",
       "  'grad_norm': 0.1702919453382492,\n",
       "  'learning_rate': 0.0007692307692307693,\n",
       "  'epoch': 0.7692307692307693,\n",
       "  'step': 40},\n",
       " {'loss': 0.7029,\n",
       "  'grad_norm': 0.10570020973682404,\n",
       "  'learning_rate': 0.0009615384615384616,\n",
       "  'epoch': 0.9615384615384616,\n",
       "  'step': 50},\n",
       " {'eval_loss': 0.6927651166915894,\n",
       "  'eval_accuracy': 0.2345415778251599,\n",
       "  'eval_f1': 0.7004735499583912,\n",
       "  'eval_roc_auc': 0.7999291123793116,\n",
       "  'eval_runtime': 3.1162,\n",
       "  'eval_samples_per_second': 150.504,\n",
       "  'eval_steps_per_second': 4.814,\n",
       "  'epoch': 1.0,\n",
       "  'step': 52},\n",
       " {'loss': 0.6816,\n",
       "  'grad_norm': 0.08787744492292404,\n",
       "  'learning_rate': 0.0009829059829059828,\n",
       "  'epoch': 1.1538461538461537,\n",
       "  'step': 60},\n",
       " {'loss': 0.6722,\n",
       "  'grad_norm': 0.06512584537267685,\n",
       "  'learning_rate': 0.0009615384615384616,\n",
       "  'epoch': 1.3461538461538463,\n",
       "  'step': 70},\n",
       " {'loss': 0.6611,\n",
       "  'grad_norm': 0.056034885346889496,\n",
       "  'learning_rate': 0.0009401709401709402,\n",
       "  'epoch': 1.5384615384615383,\n",
       "  'step': 80},\n",
       " {'loss': 0.6631,\n",
       "  'grad_norm': 0.06368554383516312,\n",
       "  'learning_rate': 0.0009188034188034187,\n",
       "  'epoch': 1.7307692307692308,\n",
       "  'step': 90},\n",
       " {'loss': 0.6482,\n",
       "  'grad_norm': 0.05745115131139755,\n",
       "  'learning_rate': 0.0008974358974358974,\n",
       "  'epoch': 1.9230769230769231,\n",
       "  'step': 100},\n",
       " {'eval_loss': 0.6446645259857178,\n",
       "  'eval_accuracy': 0.55863539445629,\n",
       "  'eval_f1': 0.8960006512080296,\n",
       "  'eval_roc_auc': 0.9166123793115826,\n",
       "  'eval_runtime': 2.9966,\n",
       "  'eval_samples_per_second': 156.51,\n",
       "  'eval_steps_per_second': 5.006,\n",
       "  'epoch': 2.0,\n",
       "  'step': 104},\n",
       " {'loss': 0.6548,\n",
       "  'grad_norm': 0.05035321041941643,\n",
       "  'learning_rate': 0.0008760683760683761,\n",
       "  'epoch': 2.1153846153846154,\n",
       "  'step': 110},\n",
       " {'loss': 0.646,\n",
       "  'grad_norm': 0.054997317492961884,\n",
       "  'learning_rate': 0.0008547008547008547,\n",
       "  'epoch': 2.3076923076923075,\n",
       "  'step': 120},\n",
       " {'loss': 0.645,\n",
       "  'grad_norm': 0.05305401235818863,\n",
       "  'learning_rate': 0.0008333333333333334,\n",
       "  'epoch': 2.5,\n",
       "  'step': 130},\n",
       " {'loss': 0.6474,\n",
       "  'grad_norm': 0.05746385455131531,\n",
       "  'learning_rate': 0.000811965811965812,\n",
       "  'epoch': 2.6923076923076925,\n",
       "  'step': 140},\n",
       " {'loss': 0.644,\n",
       "  'grad_norm': 0.04523672163486481,\n",
       "  'learning_rate': 0.0007905982905982905,\n",
       "  'epoch': 2.8846153846153846,\n",
       "  'step': 150},\n",
       " {'eval_loss': 0.6376723051071167,\n",
       "  'eval_accuracy': 0.6183368869936035,\n",
       "  'eval_f1': 0.917876540485088,\n",
       "  'eval_roc_auc': 0.9324732601127024,\n",
       "  'eval_runtime': 2.8091,\n",
       "  'eval_samples_per_second': 166.96,\n",
       "  'eval_steps_per_second': 5.34,\n",
       "  'epoch': 3.0,\n",
       "  'step': 156},\n",
       " {'loss': 0.6461,\n",
       "  'grad_norm': 0.032336313277482986,\n",
       "  'learning_rate': 0.0007692307692307693,\n",
       "  'epoch': 3.076923076923077,\n",
       "  'step': 160},\n",
       " {'loss': 0.6433,\n",
       "  'grad_norm': 0.04790787771344185,\n",
       "  'learning_rate': 0.0007478632478632479,\n",
       "  'epoch': 3.269230769230769,\n",
       "  'step': 170},\n",
       " {'loss': 0.6378,\n",
       "  'grad_norm': 0.04472923278808594,\n",
       "  'learning_rate': 0.0007264957264957265,\n",
       "  'epoch': 3.4615384615384617,\n",
       "  'step': 180},\n",
       " {'loss': 0.6382,\n",
       "  'grad_norm': 0.04825100675225258,\n",
       "  'learning_rate': 0.0007051282051282052,\n",
       "  'epoch': 3.6538461538461537,\n",
       "  'step': 190},\n",
       " {'loss': 0.6365,\n",
       "  'grad_norm': 0.05675205960869789,\n",
       "  'learning_rate': 0.0006837606837606838,\n",
       "  'epoch': 3.8461538461538463,\n",
       "  'step': 200},\n",
       " {'eval_loss': 0.6399676203727722,\n",
       "  'eval_accuracy': 0.6119402985074627,\n",
       "  'eval_f1': 0.8869254956922701,\n",
       "  'eval_roc_auc': 0.9085931050572486,\n",
       "  'eval_runtime': 2.8572,\n",
       "  'eval_samples_per_second': 164.145,\n",
       "  'eval_steps_per_second': 5.25,\n",
       "  'epoch': 4.0,\n",
       "  'step': 208},\n",
       " {'loss': 0.6416,\n",
       "  'grad_norm': 0.03696734085679054,\n",
       "  'learning_rate': 0.0006623931623931623,\n",
       "  'epoch': 4.038461538461538,\n",
       "  'step': 210},\n",
       " {'loss': 0.6379,\n",
       "  'grad_norm': 0.047932278364896774,\n",
       "  'learning_rate': 0.0006410256410256411,\n",
       "  'epoch': 4.230769230769231,\n",
       "  'step': 220},\n",
       " {'loss': 0.6369,\n",
       "  'grad_norm': 0.049485012888908386,\n",
       "  'learning_rate': 0.0006196581196581197,\n",
       "  'epoch': 4.423076923076923,\n",
       "  'step': 230},\n",
       " {'loss': 0.6348,\n",
       "  'grad_norm': 0.04207012429833412,\n",
       "  'learning_rate': 0.0005982905982905983,\n",
       "  'epoch': 4.615384615384615,\n",
       "  'step': 240},\n",
       " {'loss': 0.6392,\n",
       "  'grad_norm': 0.03545180708169937,\n",
       "  'learning_rate': 0.0005769230769230769,\n",
       "  'epoch': 4.8076923076923075,\n",
       "  'step': 250},\n",
       " {'loss': 0.6376,\n",
       "  'grad_norm': 0.09927377849817276,\n",
       "  'learning_rate': 0.0005555555555555556,\n",
       "  'epoch': 5.0,\n",
       "  'step': 260},\n",
       " {'eval_loss': 0.6342151165008545,\n",
       "  'eval_accuracy': 0.697228144989339,\n",
       "  'eval_f1': 0.9329899964186749,\n",
       "  'eval_roc_auc': 0.9543308746994006,\n",
       "  'eval_runtime': 2.8569,\n",
       "  'eval_samples_per_second': 164.164,\n",
       "  'eval_steps_per_second': 5.25,\n",
       "  'epoch': 5.0,\n",
       "  'step': 260},\n",
       " {'loss': 0.6357,\n",
       "  'grad_norm': 0.03855603188276291,\n",
       "  'learning_rate': 0.0005341880341880342,\n",
       "  'epoch': 5.1923076923076925,\n",
       "  'step': 270},\n",
       " {'loss': 0.6347,\n",
       "  'grad_norm': 0.03702457994222641,\n",
       "  'learning_rate': 0.0005128205128205128,\n",
       "  'epoch': 5.384615384615385,\n",
       "  'step': 280},\n",
       " {'loss': 0.631,\n",
       "  'grad_norm': 0.04006663337349892,\n",
       "  'learning_rate': 0.0004914529914529914,\n",
       "  'epoch': 5.576923076923077,\n",
       "  'step': 290},\n",
       " {'loss': 0.6364,\n",
       "  'grad_norm': 0.035631921142339706,\n",
       "  'learning_rate': 0.0004700854700854701,\n",
       "  'epoch': 5.769230769230769,\n",
       "  'step': 300},\n",
       " {'loss': 0.6349,\n",
       "  'grad_norm': 0.03252111375331879,\n",
       "  'learning_rate': 0.0004487179487179487,\n",
       "  'epoch': 5.961538461538462,\n",
       "  'step': 310},\n",
       " {'eval_loss': 0.6346331238746643,\n",
       "  'eval_accuracy': 0.7057569296375267,\n",
       "  'eval_f1': 0.9387813421119401,\n",
       "  'eval_roc_auc': 0.9605066221600086,\n",
       "  'eval_runtime': 2.8142,\n",
       "  'eval_samples_per_second': 166.654,\n",
       "  'eval_steps_per_second': 5.33,\n",
       "  'epoch': 6.0,\n",
       "  'step': 312},\n",
       " {'loss': 0.6358,\n",
       "  'grad_norm': 0.07679057121276855,\n",
       "  'learning_rate': 0.00042735042735042735,\n",
       "  'epoch': 6.153846153846154,\n",
       "  'step': 320},\n",
       " {'loss': 0.6353,\n",
       "  'grad_norm': 0.033963192254304886,\n",
       "  'learning_rate': 0.000405982905982906,\n",
       "  'epoch': 6.346153846153846,\n",
       "  'step': 330},\n",
       " {'loss': 0.6335,\n",
       "  'grad_norm': 0.05082681402564049,\n",
       "  'learning_rate': 0.00038461538461538467,\n",
       "  'epoch': 6.538461538461538,\n",
       "  'step': 340},\n",
       " {'loss': 0.6293,\n",
       "  'grad_norm': 0.041747137904167175,\n",
       "  'learning_rate': 0.00036324786324786325,\n",
       "  'epoch': 6.730769230769231,\n",
       "  'step': 350},\n",
       " {'loss': 0.6337,\n",
       "  'grad_norm': 0.03903717175126076,\n",
       "  'learning_rate': 0.0003418803418803419,\n",
       "  'epoch': 6.923076923076923,\n",
       "  'step': 360},\n",
       " {'eval_loss': 0.6342683434486389,\n",
       "  'eval_accuracy': 0.7356076759061834,\n",
       "  'eval_f1': 0.9360943291993804,\n",
       "  'eval_roc_auc': 0.9552555543591401,\n",
       "  'eval_runtime': 2.9516,\n",
       "  'eval_samples_per_second': 158.899,\n",
       "  'eval_steps_per_second': 5.082,\n",
       "  'epoch': 7.0,\n",
       "  'step': 364},\n",
       " {'loss': 0.6343,\n",
       "  'grad_norm': 0.032815828919410706,\n",
       "  'learning_rate': 0.00032051282051282057,\n",
       "  'epoch': 7.115384615384615,\n",
       "  'step': 370},\n",
       " {'loss': 0.6329,\n",
       "  'grad_norm': 0.041105613112449646,\n",
       "  'learning_rate': 0.00029914529914529915,\n",
       "  'epoch': 7.3076923076923075,\n",
       "  'step': 380},\n",
       " {'loss': 0.6293,\n",
       "  'grad_norm': 0.03714907914400101,\n",
       "  'learning_rate': 0.0002777777777777778,\n",
       "  'epoch': 7.5,\n",
       "  'step': 390},\n",
       " {'loss': 0.6301,\n",
       "  'grad_norm': 0.03589386120438576,\n",
       "  'learning_rate': 0.0002564102564102564,\n",
       "  'epoch': 7.6923076923076925,\n",
       "  'step': 400},\n",
       " {'loss': 0.6325,\n",
       "  'grad_norm': 0.05599692091345787,\n",
       "  'learning_rate': 0.00023504273504273504,\n",
       "  'epoch': 7.884615384615385,\n",
       "  'step': 410},\n",
       " {'eval_loss': 0.6305115818977356,\n",
       "  'eval_accuracy': 0.7611940298507462,\n",
       "  'eval_f1': 0.9548292304922198,\n",
       "  'eval_roc_auc': 0.9711222676860127,\n",
       "  'eval_runtime': 3.0062,\n",
       "  'eval_samples_per_second': 156.009,\n",
       "  'eval_steps_per_second': 4.99,\n",
       "  'epoch': 8.0,\n",
       "  'step': 416},\n",
       " {'loss': 0.6327,\n",
       "  'grad_norm': 0.02362099476158619,\n",
       "  'learning_rate': 0.00021367521367521368,\n",
       "  'epoch': 8.076923076923077,\n",
       "  'step': 420},\n",
       " {'loss': 0.6322,\n",
       "  'grad_norm': 0.03486969321966171,\n",
       "  'learning_rate': 0.00019230769230769233,\n",
       "  'epoch': 8.26923076923077,\n",
       "  'step': 430},\n",
       " {'loss': 0.6281,\n",
       "  'grad_norm': 0.025667568668723106,\n",
       "  'learning_rate': 0.00017094017094017094,\n",
       "  'epoch': 8.461538461538462,\n",
       "  'step': 440},\n",
       " {'loss': 0.634,\n",
       "  'grad_norm': 0.04850420728325844,\n",
       "  'learning_rate': 0.00014957264957264957,\n",
       "  'epoch': 8.653846153846153,\n",
       "  'step': 450},\n",
       " {'loss': 0.6344,\n",
       "  'grad_norm': 0.03638933598995209,\n",
       "  'learning_rate': 0.0001282051282051282,\n",
       "  'epoch': 8.846153846153847,\n",
       "  'step': 460},\n",
       " {'eval_loss': 0.6266661882400513,\n",
       "  'eval_accuracy': 0.837953091684435,\n",
       "  'eval_f1': 0.9712314433481823,\n",
       "  'eval_roc_auc': 0.9792667169161193,\n",
       "  'eval_runtime': 3.5216,\n",
       "  'eval_samples_per_second': 133.176,\n",
       "  'eval_steps_per_second': 4.259,\n",
       "  'epoch': 9.0,\n",
       "  'step': 468},\n",
       " {'loss': 0.6326,\n",
       "  'grad_norm': 0.03059285879135132,\n",
       "  'learning_rate': 0.00010683760683760684,\n",
       "  'epoch': 9.038461538461538,\n",
       "  'step': 470},\n",
       " {'loss': 0.6336,\n",
       "  'grad_norm': 0.049443043768405914,\n",
       "  'learning_rate': 8.547008547008547e-05,\n",
       "  'epoch': 9.23076923076923,\n",
       "  'step': 480},\n",
       " {'loss': 0.628,\n",
       "  'grad_norm': 0.03177700564265251,\n",
       "  'learning_rate': 6.41025641025641e-05,\n",
       "  'epoch': 9.423076923076923,\n",
       "  'step': 490},\n",
       " {'loss': 0.6312,\n",
       "  'grad_norm': 0.020306626334786415,\n",
       "  'learning_rate': 4.2735042735042735e-05,\n",
       "  'epoch': 9.615384615384615,\n",
       "  'step': 500},\n",
       " {'loss': 0.6309,\n",
       "  'grad_norm': 0.028399361297488213,\n",
       "  'learning_rate': 2.1367521367521368e-05,\n",
       "  'epoch': 9.807692307692308,\n",
       "  'step': 510},\n",
       " {'loss': 0.6262,\n",
       "  'grad_norm': 0.15481750667095184,\n",
       "  'learning_rate': 0.0,\n",
       "  'epoch': 10.0,\n",
       "  'step': 520},\n",
       " {'eval_loss': 0.6275761127471924,\n",
       "  'eval_accuracy': 0.8208955223880597,\n",
       "  'eval_f1': 0.9660634190523598,\n",
       "  'eval_roc_auc': 0.9749636588780016,\n",
       "  'eval_runtime': 3.4908,\n",
       "  'eval_samples_per_second': 134.352,\n",
       "  'eval_steps_per_second': 4.297,\n",
       "  'epoch': 10.0,\n",
       "  'step': 520},\n",
       " {'train_runtime': 182.4844,\n",
       "  'train_samples_per_second': 89.925,\n",
       "  'train_steps_per_second': 2.85,\n",
       "  'total_flos': 7.114660613480448e+16,\n",
       "  'train_loss': 0.6533557873505812,\n",
       "  'epoch': 10.0,\n",
       "  'step': 520},\n",
       " {'eval_loss': 0.6266661882400513,\n",
       "  'eval_accuracy': 0.837953091684435,\n",
       "  'eval_f1': 0.9712314433481823,\n",
       "  'eval_roc_auc': 0.9792667169161193,\n",
       "  'eval_runtime': 3.7336,\n",
       "  'eval_samples_per_second': 125.615,\n",
       "  'eval_steps_per_second': 4.018,\n",
       "  'epoch': 10.0,\n",
       "  'step': 520},\n",
       " {'eval_loss': 0.6266661882400513,\n",
       "  'eval_accuracy': 0.837953091684435,\n",
       "  'eval_f1': 0.9712314433481823,\n",
       "  'eval_roc_auc': 0.9792667169161193,\n",
       "  'eval_runtime': 2.9087,\n",
       "  'eval_samples_per_second': 161.24,\n",
       "  'eval_steps_per_second': 5.157,\n",
       "  'epoch': 10.0,\n",
       "  'step': 520}]"
      ]
     },
     "execution_count": 13,
     "metadata": {},
     "output_type": "execute_result"
    }
   ],
   "source": [
    "trainer.state.log_history"
   ]
  },
  {
   "cell_type": "code",
   "execution_count": 14,
   "metadata": {},
   "outputs": [
    {
     "name": "stdout",
     "output_type": "stream",
     "text": [
      "**Evaluation Metrics:**\n",
      "Accuracy: 0.8380\n",
      "F1 Score (Weighted): 0.9712\n",
      "ROC-AUC: 0.9793\n"
     ]
    },
    {
     "data": {
      "image/png": "[encoded data removed]",
      "text/plain": [
       "<Figure size 640x480 with 1 Axes>"
      ]
     },
     "metadata": {},
     "output_type": "display_data"
    },
    {
     "data": {
      "application/vnd.jupyter.widget-view+json": {
       "model_id": "9e5daadb94c7467e893eb7c75467bd4a",
       "version_major": 2,
       "version_minor": 0
      },
      "text/plain": [
       "  0%|          | 0/15 [00:00<?, ?it/s]"
      ]
     },
     "metadata": {},
     "output_type": "display_data"
    },
    {
     "data": {
      "image/png": "[encoded data removed]",
      "text/plain": [
       "<Figure size 640x480 with 1 Axes>"
      ]
     },
     "metadata": {},
     "output_type": "display_data"
    },
    {
     "data": {
      "image/png": "[encoded data removed]",
      "text/plain": [
       "<Figure size 640x480 with 1 Axes>"
      ]
     },
     "metadata": {},
     "output_type": "display_data"
    }
   ],
   "source": [
    "# **Metrics Report**\n",
    "print(\"**Evaluation Metrics:**\")\n",
    "print(f\"Accuracy: {eval_results['eval_accuracy']:.4f}\")\n",
    "print(f\"F1 Score (Weighted): {eval_results['eval_f1']:.4f}\")\n",
    "print(f\"ROC-AUC: {eval_results['eval_roc_auc']:.4f}\")\n",
    "\n",
    "# **Training and Validation Loss Plot**\n",
    "import matplotlib.pyplot as plt\n",
    "\n",
    "train_loss = [loss['loss'] for loss in trainer.state.log_history if 'loss' in loss]\n",
    "valid_loss = [loss['eval_loss'] for loss in trainer.state.log_history if 'eval_loss' in loss]\n",
    "\n",
    "plt.plot(train_loss, label='Training Loss')\n",
    "plt.plot(valid_loss, label='Validation Loss')\n",
    "plt.xlabel('Epochs')\n",
    "plt.ylabel('Loss')\n",
    "plt.legend()\n",
    "plt.title('Training and Validation Loss')\n",
    "plt.show()\n",
    "\n",
    "# **Precision-Recall Curve for Each Label (first 5 labels)**\n",
    "from sklearn.metrics import precision_recall_curve\n",
    "import matplotlib.pyplot as plt\n",
    "\n",
    "# Get predictions on the validation set\n",
    "preds = trainer.predict(valid_dataset).predictions\n",
    "labels = np.asarray([ex['labels'] for ex in valid_dataset])\n",
    "\n",
    "# Plot PR curve for each label (first 5 labels)\n",
    "for i in range(5):\n",
    "    precision, recall, _ = precision_recall_curve(labels[:, i], preds[:, i])\n",
    "    plt.plot(recall, precision, label=f'Label {i}')\n",
    "plt.xlabel('Recall')\n",
    "plt.ylabel('Precision')\n",
    "plt.legend()\n",
    "plt.title('Precision-Recall Curve (First 5 Labels)')\n",
    "plt.show()\n",
    "\n",
    "# **ROC-AUC Curve for Each Label (first 5 labels)**\n",
    "from sklearn.metrics import roc_auc_score, roc_curve\n",
    "import matplotlib.pyplot as plt\n",
    "\n",
    "# Plot ROC-AUC curve for each label (first 5 labels)\n",
    "for i in range(5):\n",
    "    fpr, tpr, _ = roc_curve(labels[:, i], preds[:, i])\n",
    "    roc_auc = roc_auc_score(labels[:, i], preds[:, i])\n",
    "    plt.plot(fpr, tpr, label=f'Label {i} (AUC = {roc_auc:.2f})')\n",
    "plt.xlabel('False Positive Rate')\n",
    "plt.ylabel('True Positive Rate')\n",
    "plt.legend()\n",
    "plt.title('ROC-AUC Curve (First 5 Labels)')\n",
    "plt.show()"
   ]
  },
  {
   "cell_type": "code",
   "execution_count": null,
   "metadata": {},
   "outputs": [],
   "source": []
  }
 ],
 "metadata": {
  "kernelspec": {
   "display_name": "stellar",
   "language": "python",
   "name": "python3"
  },
  "language_info": {
   "codemirror_mode": {
    "name": "ipython",
    "version": 3
   },
   "file_extension": ".py",
   "mimetype": "text/x-python",
   "name": "python",
   "nbconvert_exporter": "python",
   "pygments_lexer": "ipython3",
   "version": "3.11.9"
  }
 },
 "nbformat": 4,
 "nbformat_minor": 2
}
